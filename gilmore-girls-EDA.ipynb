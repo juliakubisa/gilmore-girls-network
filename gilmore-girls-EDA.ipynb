{
 "cells": [
  {
   "cell_type": "code",
   "execution_count": 133,
   "id": "73acf3b6-6268-4d83-9d36-1e89df6dfaa8",
   "metadata": {
    "tags": []
   },
   "outputs": [],
   "source": [
    "# Data reading \n",
    "import pandas as pd\n",
    "import numpy as np\n",
    "import spacy\n",
    "from spacy import displacy\n",
    "import networkx as nx\n",
    "\n",
    "#Data visualisation\n",
    "import matplotlib.pyplot as plt\n",
    "from matplotlib.pyplot import figure\n",
    "import seaborn as sns"
   ]
  },
  {
   "cell_type": "code",
   "execution_count": 25,
   "id": "3d1404b5-f71a-4320-a7a0-c10f59a9153d",
   "metadata": {
    "collapsed": true,
    "jupyter": {
     "outputs_hidden": true
    },
    "tags": []
   },
   "outputs": [
    {
     "name": "stdout",
     "output_type": "stream",
     "text": [
      "Requirement already satisfied: pipreqsnb in /opt/anaconda3/lib/python3.9/site-packages (0.2.4)\n",
      "Requirement already satisfied: pipreqs in /opt/anaconda3/lib/python3.9/site-packages (from pipreqsnb) (0.4.11)\n",
      "Requirement already satisfied: yarg in /opt/anaconda3/lib/python3.9/site-packages (from pipreqs->pipreqsnb) (0.1.9)\n",
      "Requirement already satisfied: docopt in /opt/anaconda3/lib/python3.9/site-packages (from pipreqs->pipreqsnb) (0.6.2)\n",
      "Requirement already satisfied: requests in /opt/anaconda3/lib/python3.9/site-packages (from yarg->pipreqs->pipreqsnb) (2.26.0)\n",
      "Requirement already satisfied: idna<4,>=2.5 in /opt/anaconda3/lib/python3.9/site-packages (from requests->yarg->pipreqs->pipreqsnb) (3.2)\n",
      "Requirement already satisfied: urllib3<1.27,>=1.21.1 in /opt/anaconda3/lib/python3.9/site-packages (from requests->yarg->pipreqs->pipreqsnb) (1.26.7)\n",
      "Requirement already satisfied: certifi>=2017.4.17 in /opt/anaconda3/lib/python3.9/site-packages (from requests->yarg->pipreqs->pipreqsnb) (2021.10.8)\n",
      "Requirement already satisfied: charset-normalizer~=2.0.0 in /opt/anaconda3/lib/python3.9/site-packages (from requests->yarg->pipreqs->pipreqsnb) (2.0.4)\n",
      "Exception occurred while working on file /Users/julkakubisa/gilmore_girls_network/script_scrape.ipynb, cell 4/5\n",
      "Traceback (most recent call last):\n",
      "  File \"/opt/anaconda3/bin/pipreqsnb\", line 8, in <module>\n",
      "    sys.exit(main())\n",
      "  File \"/opt/anaconda3/lib/python3.9/site-packages/pipreqsnb/pipreqsnb.py\", line 130, in main\n",
      "    raise e\n",
      "  File \"/opt/anaconda3/lib/python3.9/site-packages/pipreqsnb/pipreqsnb.py\", line 126, in main\n",
      "    imports += get_import_string_from_source(source)\n",
      "  File \"/opt/anaconda3/lib/python3.9/site-packages/pipreqsnb/pipreqsnb.py\", line 26, in get_import_string_from_source\n",
      "    tree = ast.parse(source)\n",
      "  File \"/opt/anaconda3/lib/python3.9/ast.py\", line 50, in parse\n",
      "    return compile(source, filename, mode, flags,\n",
      "  File \"<unknown>\", line 2\n",
      "    for item_link in item_links[]:\n",
      "                                ^\n",
      "SyntaxError: invalid syntax\n"
     ]
    }
   ],
   "source": [
    "!pip install pipreqsnb\n",
    "!pipreqsnb\n",
    "!python3 -m spacy download en_core_web_sm"
   ]
  },
  {
   "cell_type": "code",
   "execution_count": 52,
   "id": "2c411112-9eac-4e2a-8c4e-a55719eca4fb",
   "metadata": {},
   "outputs": [],
   "source": [
    "# Load datasets \n",
    "characters = pd.read_csv(\"data/characters_list.csv\", sep='\\t') # List of characters\n",
    "script = pd.read_csv(\"data/Gilmore_Girls_Lines.csv\", sep=',')"
   ]
  },
  {
   "cell_type": "code",
   "execution_count": 57,
   "id": "365b9cda-ee5d-4afd-ab4e-5682d31ae078",
   "metadata": {},
   "outputs": [
    {
     "data": {
      "text/html": [
       "<div>\n",
       "<style scoped>\n",
       "    .dataframe tbody tr th:only-of-type {\n",
       "        vertical-align: middle;\n",
       "    }\n",
       "\n",
       "    .dataframe tbody tr th {\n",
       "        vertical-align: top;\n",
       "    }\n",
       "\n",
       "    .dataframe thead th {\n",
       "        text-align: right;\n",
       "    }\n",
       "</style>\n",
       "<table border=\"1\" class=\"dataframe\">\n",
       "  <thead>\n",
       "    <tr style=\"text-align: right;\">\n",
       "      <th></th>\n",
       "      <th>Character</th>\n",
       "      <th>Line</th>\n",
       "      <th>Season</th>\n",
       "    </tr>\n",
       "  </thead>\n",
       "  <tbody>\n",
       "    <tr>\n",
       "      <th>0</th>\n",
       "      <td>Lorelai</td>\n",
       "      <td>Please, Luke. Please, please, please.</td>\n",
       "      <td>1</td>\n",
       "    </tr>\n",
       "    <tr>\n",
       "      <th>1</th>\n",
       "      <td>Luke</td>\n",
       "      <td>How many cups have you had this morning?</td>\n",
       "      <td>1</td>\n",
       "    </tr>\n",
       "    <tr>\n",
       "      <th>2</th>\n",
       "      <td>Lorelai</td>\n",
       "      <td>None.</td>\n",
       "      <td>1</td>\n",
       "    </tr>\n",
       "    <tr>\n",
       "      <th>3</th>\n",
       "      <td>Luke</td>\n",
       "      <td>Plus...</td>\n",
       "      <td>1</td>\n",
       "    </tr>\n",
       "    <tr>\n",
       "      <th>4</th>\n",
       "      <td>Lorelai</td>\n",
       "      <td>Five, but yours is better.</td>\n",
       "      <td>1</td>\n",
       "    </tr>\n",
       "    <tr>\n",
       "      <th>...</th>\n",
       "      <td>...</td>\n",
       "      <td>...</td>\n",
       "      <td>...</td>\n",
       "    </tr>\n",
       "    <tr>\n",
       "      <th>134176</th>\n",
       "      <td>Rory</td>\n",
       "      <td>Well It wasn't very flattering.</td>\n",
       "      <td>7</td>\n",
       "    </tr>\n",
       "    <tr>\n",
       "      <th>134177</th>\n",
       "      <td>Lorelai</td>\n",
       "      <td>Well how will people know you're the world's g...</td>\n",
       "      <td>7</td>\n",
       "    </tr>\n",
       "    <tr>\n",
       "      <th>134178</th>\n",
       "      <td>Rory</td>\n",
       "      <td>I don't know.</td>\n",
       "      <td>7</td>\n",
       "    </tr>\n",
       "    <tr>\n",
       "      <th>134179</th>\n",
       "      <td>Lorelai</td>\n",
       "      <td>I guess they'll just have to read your stuff.</td>\n",
       "      <td>7</td>\n",
       "    </tr>\n",
       "    <tr>\n",
       "      <th>134180</th>\n",
       "      <td>Rory</td>\n",
       "      <td>I guess so.</td>\n",
       "      <td>7</td>\n",
       "    </tr>\n",
       "  </tbody>\n",
       "</table>\n",
       "<p>134181 rows × 3 columns</p>\n",
       "</div>"
      ],
      "text/plain": [
       "       Character                                               Line  Season\n",
       "0        Lorelai              Please, Luke. Please, please, please.       1\n",
       "1           Luke           How many cups have you had this morning?       1\n",
       "2        Lorelai                                              None.       1\n",
       "3           Luke                                            Plus...       1\n",
       "4        Lorelai                         Five, but yours is better.       1\n",
       "...          ...                                                ...     ...\n",
       "134176      Rory                    Well It wasn't very flattering.       7\n",
       "134177   Lorelai  Well how will people know you're the world's g...       7\n",
       "134178      Rory                                      I don't know.       7\n",
       "134179   Lorelai      I guess they'll just have to read your stuff.       7\n",
       "134180      Rory                                        I guess so.       7\n",
       "\n",
       "[134181 rows x 3 columns]"
      ]
     },
     "execution_count": 57,
     "metadata": {},
     "output_type": "execute_result"
    }
   ],
   "source": [
    "script"
   ]
  },
  {
   "cell_type": "code",
   "execution_count": 107,
   "id": "242872ba-f78f-48c5-9867-2a611260e2a9",
   "metadata": {},
   "outputs": [],
   "source": [
    "# Count lines by character\n",
    "char_lines = script.groupby(['Character'], as_index=False)['Line'].count().sort_values(['Line'], ascending=False)"
   ]
  },
  {
   "cell_type": "code",
   "execution_count": 109,
   "id": "c0bf9dba-40a3-4d05-9021-db6169854fa6",
   "metadata": {},
   "outputs": [],
   "source": [
    "# Percent of lines said by character\n",
    "char_lines['Percent'] = char_lines['Line']/char_lines['Line'].sum()"
   ]
  },
  {
   "cell_type": "code",
   "execution_count": 151,
   "id": "de02b267-c04c-4173-9afa-d61e0b7ef42b",
   "metadata": {},
   "outputs": [
    {
     "data": {
      "image/png": "[encoded data removed]",
      "text/plain": [
       "<Figure size 432x288 with 1 Axes>"
      ]
     },
     "metadata": {
      "needs_background": "light"
     },
     "output_type": "display_data"
    }
   ],
   "source": [
    "# Barplot of said lines \n",
    "sns.set_palette(\"Set2\")\n",
    "fig = sns.barplot(data=char_lines[:10], x=\"Character\", y=\"Line\")\n",
    "plt.ylabel(\"Lines Count\", labelpad=20)\n",
    "plt.xlabel(\"Character\",labelpad=20)\n",
    "sns.despine(offset=10)\n",
    "fig = sns.color_palette(\"Set2\")"
   ]
  },
  {
   "cell_type": "code",
   "execution_count": 184,
   "id": "3af3dab1-97a5-40e6-ab18-bfd909af7221",
   "metadata": {},
   "outputs": [],
   "source": [
    "# Number of character per season\n",
    "seasons_char= script.groupby(['Season'], as_index=False)['Character'].nunique().sort_values('Character', ascending=False)"
   ]
  },
  {
   "cell_type": "code",
   "execution_count": 189,
   "id": "b77d4021-daef-4323-8921-9742a5d13a8a",
   "metadata": {},
   "outputs": [
    {
     "data": {
      "image/png": "[encoded data removed]",
      "text/plain": [
       "<Figure size 432x288 with 1 Axes>"
      ]
     },
     "metadata": {
      "needs_background": "light"
     },
     "output_type": "display_data"
    }
   ],
   "source": [
    "# Barplot of seasons distribution \n",
    "sns.set_palette(\"Set2\")\n",
    "fig2 = sns.barplot(data=seasons_char, x=\"Season\", y=\"Character\")\n",
    "plt.ylabel(\"Number of characters\", labelpad=20)\n",
    "plt.xlabel(\"Season\",labelpad=20)\n",
    "sns.despine(offset=10)\n",
    "fig2 = sns.color_palette(\"Set2\")"
   ]
  },
  {
   "cell_type": "code",
   "execution_count": null,
   "id": "17a23738-99b5-44c4-ba7e-4bf08d5326d6",
   "metadata": {},
   "outputs": [],
   "source": []
  }
 ],
 "metadata": {
  "kernelspec": {
   "display_name": "Python 3 (ipykernel)",
   "language": "python",
   "name": "python3"
  },
  "language_info": {
   "codemirror_mode": {
    "name": "ipython",
    "version": 3
   },
   "file_extension": ".py",
   "mimetype": "text/x-python",
   "name": "python",
   "nbconvert_exporter": "python",
   "pygments_lexer": "ipython3",
   "version": "3.9.7"
  }
 },
 "nbformat": 4,
 "nbformat_minor": 5
}
