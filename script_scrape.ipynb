{
 "cells": [
  {
   "cell_type": "code",
   "execution_count": 14,
   "id": "6bac8987-796c-47e8-8a9b-66068e9ab675",
   "metadata": {},
   "outputs": [],
   "source": [
    "import selenium\n",
    "from selenium import webdriver\n",
    "import pandas as pd \n",
    "from webdriver_manager.chrome import ChromeDriverManager\n",
    "from selenium.webdriver.common.by import By\n",
    "from selenium.webdriver.support.ui import WebDriverWait\n",
    "from selenium.webdriver.support import expected_conditions as EC\n",
    "from selenium.common.exceptions import NoSuchElementException\n",
    "import time \n",
    "import re\n",
    "import os"
   ]
  },
  {
   "cell_type": "code",
   "execution_count": null,
   "id": "8b3bd4f7-33a9-4016-829e-6b1b908a9071",
   "metadata": {},
   "outputs": [],
   "source": [
    "# Create driver\n",
    "driver = webdriver.Chrome(ChromeDriverManager().install())\n",
    "\n",
    "# Get the page url \n",
    "page_url = \"https://transcripts.foreverdreaming.org/viewtopic.php?f=22&t=4411\"\n",
    "driver.get(page_url) # Open the page \n",
    "wait = WebDriverWait(driver, 10) # Wait until the page renders"
   ]
  },
  {
   "cell_type": "code",
   "execution_count": 3,
   "id": "4c070521-b354-4f3f-a3b8-f8f920b43472",
   "metadata": {
    "tags": []
   },
   "outputs": [],
   "source": [
    "item_links = [item.get_attribute(\"href\") for item in driver.find_elements(By.CLASS_NAME, 'postlink')] # Get links to the scripts "
   ]
  },
  {
   "cell_type": "code",
   "execution_count": null,
   "id": "9d886bcb-480d-4f7a-b0a6-0a8bb5d1d38a",
   "metadata": {
    "tags": []
   },
   "outputs": [],
   "source": [
    "# Scrape scripts from links \n",
    "for item_link in item_links[]:\n",
    "    driver.get(item_link) # Click the link  \n",
    "    time.sleep(3) \n",
    "    l = driver.find_elements(By.TAG_NAME, 'p')\n",
    "    for i in l: \n",
    "        print (i.text) \n"
   ]
  },
  {
   "cell_type": "code",
   "execution_count": 159,
   "id": "aab6d8a8-ce85-40e2-bda5-f60ac7888a10",
   "metadata": {
    "tags": []
   },
   "outputs": [],
   "source": [
    "# Load scripts\n",
    "scripts = [s for s in sorted(os.listdir('data')) if s.startswith('season')] # List of scripts sorted "
   ]
  },
  {
   "cell_type": "code",
   "execution_count": 172,
   "id": "a4732c0e-13de-410c-bc34-7c99813df881",
   "metadata": {},
   "outputs": [
    {
     "ename": "SyntaxError",
     "evalue": "invalid syntax (924040763.py, line 7)",
     "output_type": "error",
     "traceback": [
      "\u001b[0;36m  File \u001b[0;32m\"/var/folders/_b/l_819g5924d_y00npn9gt60h0000gn/T/ipykernel_29310/924040763.py\"\u001b[0;36m, line \u001b[0;32m7\u001b[0m\n\u001b[0;31m    df = df['Line'].replace(to_replace=':', value='', regex=True, inplace=True) if (df['Line'].str.startswith(':') = True)\u001b[0m\n\u001b[0m                                                                                                                   ^\u001b[0m\n\u001b[0;31mSyntaxError\u001b[0m\u001b[0;31m:\u001b[0m invalid syntax\n"
     ]
    }
   ],
   "source": [
    "# Clean dataframes \n",
    "def prepare_dataframe(df):\n",
    "    df.rename(columns = {list(df)[0]:'Line'}, inplace = True) \n",
    "    df['Character'] = df['Line'].str.split(' ').str[0] # Create a column with first word from line \n",
    "    df['Line'] = df['Line'].str.split(n=1).str[1] # Delete the first word from line \n",
    "    df = df[df['Character'].str.endswith(':', na=False)] # Delete row if doesn't end with \":\" \n",
    "\n",
    "    # Change the order of columns \n",
    "    cols = df.columns.tolist()\n",
    "    cols = cols[-1:] + cols[:-1]\n",
    "    df = df[cols]\n",
    "\n",
    "    # Capitalize character names \n",
    "    df['Character'] = df['Character'].str.capitalize()\n",
    "    df['Character'] = df['Character'].str.replace(':', '')\n",
    "    \n",
    "    return df "
   ]
  },
  {
   "cell_type": "code",
   "execution_count": 164,
   "id": "c5dd1fda-f278-4a91-8c08-d38c56c7045c",
   "metadata": {},
   "outputs": [],
   "source": [
    "# Create list of dataframes \n",
    "seasons_list = []\n",
    " \n",
    "# Append seasons scripts into the list\n",
    "for i in range(len(scripts)):\n",
    "    df = pd.read_csv(\"data/\"+scripts[i])\n",
    "    seasons_list.append(df)\n"
   ]
  },
  {
   "cell_type": "code",
   "execution_count": 165,
   "id": "915e1def-92ee-4203-b18f-59b9f4620222",
   "metadata": {},
   "outputs": [],
   "source": [
    "# Prepare dataframes \n",
    "season1 = prepare_dataframe(seasons_list[0])\n",
    "season1['Season'] = '1'\n",
    "\n",
    "season2 = prepare_dataframe(seasons_list[1])\n",
    "season2['Season'] = '2'\n",
    "\n",
    "season3 = prepare_dataframe(seasons_list[2])\n",
    "season3['Season'] = '3'\n",
    "\n",
    "season4 = prepare_dataframe(seasons_list[3])\n",
    "season4['Season'] = '4'\n",
    "\n",
    "season5 = prepare_dataframe(seasons_list[4])\n",
    "season5['Season'] = '5'\n",
    "\n",
    "season6 = prepare_dataframe(seasons_list[5])\n",
    "season6['Season'] = '6'\n",
    "\n",
    "season7 = prepare_dataframe(seasons_list[6])\n",
    "season7['Season'] = '7'\n"
   ]
  },
  {
   "cell_type": "code",
   "execution_count": 166,
   "id": "a0e15f9d-4f87-469e-9fb9-3f1820aa800a",
   "metadata": {},
   "outputs": [
    {
     "data": {
      "text/html": [
       "<div>\n",
       "<style scoped>\n",
       "    .dataframe tbody tr th:only-of-type {\n",
       "        vertical-align: middle;\n",
       "    }\n",
       "\n",
       "    .dataframe tbody tr th {\n",
       "        vertical-align: top;\n",
       "    }\n",
       "\n",
       "    .dataframe thead th {\n",
       "        text-align: right;\n",
       "    }\n",
       "</style>\n",
       "<table border=\"1\" class=\"dataframe\">\n",
       "  <thead>\n",
       "    <tr style=\"text-align: right;\">\n",
       "      <th></th>\n",
       "      <th>Character</th>\n",
       "      <th>Line</th>\n",
       "      <th>Season</th>\n",
       "    </tr>\n",
       "  </thead>\n",
       "  <tbody>\n",
       "    <tr>\n",
       "      <th>0</th>\n",
       "      <td>Lorelai</td>\n",
       "      <td>Please, Luke. Please, please, please.</td>\n",
       "      <td>1</td>\n",
       "    </tr>\n",
       "    <tr>\n",
       "      <th>1</th>\n",
       "      <td>Luke</td>\n",
       "      <td>How many cups have you had this morning?</td>\n",
       "      <td>1</td>\n",
       "    </tr>\n",
       "    <tr>\n",
       "      <th>2</th>\n",
       "      <td>Lorelai</td>\n",
       "      <td>None.</td>\n",
       "      <td>1</td>\n",
       "    </tr>\n",
       "    <tr>\n",
       "      <th>3</th>\n",
       "      <td>Luke</td>\n",
       "      <td>Plus...</td>\n",
       "      <td>1</td>\n",
       "    </tr>\n",
       "    <tr>\n",
       "      <th>4</th>\n",
       "      <td>Lorelai</td>\n",
       "      <td>Five, but yours is better.</td>\n",
       "      <td>1</td>\n",
       "    </tr>\n",
       "    <tr>\n",
       "      <th>...</th>\n",
       "      <td>...</td>\n",
       "      <td>...</td>\n",
       "      <td>...</td>\n",
       "    </tr>\n",
       "    <tr>\n",
       "      <th>134176</th>\n",
       "      <td>Rory</td>\n",
       "      <td>Well It wasn't very flattering.</td>\n",
       "      <td>7</td>\n",
       "    </tr>\n",
       "    <tr>\n",
       "      <th>134177</th>\n",
       "      <td>Lorelai</td>\n",
       "      <td>Well how will people know you're the world's g...</td>\n",
       "      <td>7</td>\n",
       "    </tr>\n",
       "    <tr>\n",
       "      <th>134178</th>\n",
       "      <td>Rory</td>\n",
       "      <td>I don't know.</td>\n",
       "      <td>7</td>\n",
       "    </tr>\n",
       "    <tr>\n",
       "      <th>134179</th>\n",
       "      <td>Lorelai</td>\n",
       "      <td>I guess they'll just have to read your stuff.</td>\n",
       "      <td>7</td>\n",
       "    </tr>\n",
       "    <tr>\n",
       "      <th>134180</th>\n",
       "      <td>Rory</td>\n",
       "      <td>I guess so.</td>\n",
       "      <td>7</td>\n",
       "    </tr>\n",
       "  </tbody>\n",
       "</table>\n",
       "<p>134181 rows × 3 columns</p>\n",
       "</div>"
      ],
      "text/plain": [
       "       Character                                               Line Season\n",
       "0        Lorelai              Please, Luke. Please, please, please.      1\n",
       "1           Luke           How many cups have you had this morning?      1\n",
       "2        Lorelai                                              None.      1\n",
       "3           Luke                                            Plus...      1\n",
       "4        Lorelai                         Five, but yours is better.      1\n",
       "...          ...                                                ...    ...\n",
       "134176      Rory                    Well It wasn't very flattering.      7\n",
       "134177   Lorelai  Well how will people know you're the world's g...      7\n",
       "134178      Rory                                      I don't know.      7\n",
       "134179   Lorelai      I guess they'll just have to read your stuff.      7\n",
       "134180      Rory                                        I guess so.      7\n",
       "\n",
       "[134181 rows x 3 columns]"
      ]
     },
     "execution_count": 166,
     "metadata": {},
     "output_type": "execute_result"
    }
   ],
   "source": [
    "# Merge dataframes\n",
    "all_seasons = pd.concat([season1, season2, season3, season4, season5, season6, season7], ignore_index=True)\n",
    "all_seasons"
   ]
  },
  {
   "cell_type": "code",
   "execution_count": 130,
   "id": "8a277b73-590d-4062-a683-3629069ed831",
   "metadata": {},
   "outputs": [],
   "source": [
    "# Replace mispelled names \n",
    "all_seasons['Character'] = all_seasons['Character'].replace(['Loreai', 'Lorleai', 'Loreali', 'Miche', 'Sooki', 'Sookei', 'Christohper', 'Orelai',\n",
    "                                                            'Richrad', 'Grandpa', 'Lorelail', 'Ory', 'Christoper', 'Lorlelai'], \n",
    "                                                            ['Lorelai', 'Lorelai', 'Lorelai', 'Michel', 'Sookie', 'Sookie', 'Christopher', 'Lorelai',\n",
    "                                                            'Richard', 'Richard', 'Lorelai', 'Rory', 'Christopher', 'Lorelai'])"
   ]
  },
  {
   "cell_type": "code",
   "execution_count": 173,
   "id": "e36233d3-69a1-45cd-b624-fcc92b2bb523",
   "metadata": {},
   "outputs": [],
   "source": [
    "wrong = pd.DataFrame(all_seasons['Line'].str.startswith(\":\"))\n",
    "wrong = wrong['Line'].sum()"
   ]
  },
  {
   "cell_type": "code",
   "execution_count": 131,
   "id": "48f7e01f-3dc8-4bed-bb89-40e453c5b6f4",
   "metadata": {
    "tags": []
   },
   "outputs": [],
   "source": [
    "# Save output to csv \n",
    "all_seasons.to_csv(r'/Users/julkakubisa/gilmore_girls_network/data/Gilmore_Girls_Lines.csv', index=False)"
   ]
  },
  {
   "cell_type": "code",
   "execution_count": null,
   "id": "e98b5f0e-b890-44e1-a814-95a703660e77",
   "metadata": {},
   "outputs": [],
   "source": []
  }
 ],
 "metadata": {
  "kernelspec": {
   "display_name": "Python 3 (ipykernel)",
   "language": "python",
   "name": "python3"
  },
  "language_info": {
   "codemirror_mode": {
    "name": "ipython",
    "version": 3
   },
   "file_extension": ".py",
   "mimetype": "text/x-python",
   "name": "python",
   "nbconvert_exporter": "python",
   "pygments_lexer": "ipython3",
   "version": "3.9.7"
  }
 },
 "nbformat": 4,
 "nbformat_minor": 5
}
