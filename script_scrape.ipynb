{
 "cells": [
  {
   "cell_type": "code",
   "execution_count": 1,
   "id": "6bac8987-796c-47e8-8a9b-66068e9ab675",
   "metadata": {},
   "outputs": [],
   "source": [
    "import selenium\n",
    "from selenium import webdriver\n",
    "import pandas as pd \n",
    "from webdriver_manager.chrome import ChromeDriverManager\n",
    "from selenium.webdriver.common.by import By\n",
    "from selenium.webdriver.support.ui import WebDriverWait\n",
    "from selenium.webdriver.support import expected_conditions as EC\n",
    "from selenium.common.exceptions import NoSuchElementException\n",
    "import time \n",
    "import re"
   ]
  },
  {
   "cell_type": "code",
   "execution_count": null,
   "id": "8b3bd4f7-33a9-4016-829e-6b1b908a9071",
   "metadata": {},
   "outputs": [],
   "source": [
    "# Create driver\n",
    "driver = webdriver.Chrome(ChromeDriverManager().install())\n",
    "\n",
    "# Get the page url \n",
    "page_url = \"https://transcripts.foreverdreaming.org/viewtopic.php?f=22&t=4411\"\n",
    "driver.get(page_url) # Open the page \n",
    "wait = WebDriverWait(driver, 10) # Wait until the page renders"
   ]
  },
  {
   "cell_type": "code",
   "execution_count": 3,
   "id": "4c070521-b354-4f3f-a3b8-f8f920b43472",
   "metadata": {
    "tags": []
   },
   "outputs": [],
   "source": [
    "item_links = [item.get_attribute(\"href\") for item in driver.find_elements(By.CLASS_NAME, 'postlink')] # Get links to the scripts "
   ]
  },
  {
   "cell_type": "code",
   "execution_count": null,
   "id": "9d886bcb-480d-4f7a-b0a6-0a8bb5d1d38a",
   "metadata": {
    "tags": []
   },
   "outputs": [],
   "source": [
    "# Scrape scripts from links \n",
    "for item_link in item_links[]:\n",
    "    driver.get(item_link) # Click the link  \n",
    "    time.sleep(3) \n",
    "    l = driver.find_elements(By.TAG_NAME, 'p')\n",
    "    for i in l: \n",
    "        print (i.text) \n"
   ]
  },
  {
   "cell_type": "code",
   "execution_count": null,
   "id": "aab6d8a8-ce85-40e2-bda5-f60ac7888a10",
   "metadata": {
    "tags": []
   },
   "outputs": [],
   "source": []
  }
 ],
 "metadata": {
  "kernelspec": {
   "display_name": "Python 3 (ipykernel)",
   "language": "python",
   "name": "python3"
  },
  "language_info": {
   "codemirror_mode": {
    "name": "ipython",
    "version": 3
   },
   "file_extension": ".py",
   "mimetype": "text/x-python",
   "name": "python",
   "nbconvert_exporter": "python",
   "pygments_lexer": "ipython3",
   "version": "3.9.7"
  }
 },
 "nbformat": 4,
 "nbformat_minor": 5
}
