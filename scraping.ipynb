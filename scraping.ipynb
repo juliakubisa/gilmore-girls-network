{
 "cells": [
  {
   "cell_type": "code",
   "execution_count": 1,
   "id": "af55ac2a-330b-4811-90e8-60969e7c2035",
   "metadata": {
    "tags": []
   },
   "outputs": [],
   "source": [
    "#!pip install selenium"
   ]
  },
  {
   "cell_type": "code",
   "execution_count": 2,
   "id": "16e2255c-3f8c-4921-baf8-579bf2cb9562",
   "metadata": {
    "tags": []
   },
   "outputs": [],
   "source": [
    "#!pip install webdriver-manager"
   ]
  },
  {
   "cell_type": "code",
   "execution_count": 3,
   "id": "a97ace16-6641-4a6e-8420-b2f16070532c",
   "metadata": {},
   "outputs": [],
   "source": [
    "import selenium\n",
    "from selenium import webdriver\n",
    "import pandas as pd \n",
    "from webdriver_manager.chrome import ChromeDriverManager\n",
    "from selenium.webdriver.common.by import By\n",
    "from selenium.webdriver.support.ui import WebDriverWait\n",
    "from selenium.webdriver.support import expected_conditions as EC\n",
    "from selenium.common.exceptions import NoSuchElementException\n",
    "import time \n",
    "import re"
   ]
  },
  {
   "cell_type": "code",
   "execution_count": 57,
   "id": "0737e349-5310-4d96-bd10-b4a23f684d5b",
   "metadata": {},
   "outputs": [
    {
     "name": "stderr",
     "output_type": "stream",
     "text": [
      "/var/folders/_b/l_819g5924d_y00npn9gt60h0000gn/T/ipykernel_25864/343686796.py:2: DeprecationWarning: executable_path has been deprecated, please pass in a Service object\n",
      "  driver = webdriver.Chrome(ChromeDriverManager().install())\n"
     ]
    }
   ],
   "source": [
    "# Create driver\n",
    "driver = webdriver.Chrome(ChromeDriverManager().install())\n",
    "\n",
    "# Get the page url \n",
    "page_url = \"https://gilmoregirls.fandom.com/wiki/Category:Characters\"\n",
    "driver.get(page_url) # Open the page \n",
    "wait = WebDriverWait(driver, 10) # Wait until the page renders"
   ]
  },
  {
   "cell_type": "code",
   "execution_count": 58,
   "id": "aa54acc7-0b3f-4276-953e-18e172fa4bd1",
   "metadata": {},
   "outputs": [],
   "source": [
    "# Accept the cookies \n",
    "driver.find_element(By.XPATH, \"//div[text()='AKCEPTUJĘ']\").click()"
   ]
  },
  {
   "cell_type": "code",
   "execution_count": 59,
   "id": "296fc4fd-706d-4d36-ac12-3173e0a73d87",
   "metadata": {},
   "outputs": [],
   "source": [
    "# Create a list of characters\n",
    "character_element = driver.find_elements(By.CLASS_NAME, 'category-page__member-link')"
   ]
  },
  {
   "cell_type": "code",
   "execution_count": 63,
   "id": "c19a5a6a-5b8d-4f22-8d85-627709174260",
   "metadata": {},
   "outputs": [],
   "source": [
    "characters = []\n",
    "for value in character_element[8:]:\n",
    "    characters_list = value.text\n",
    "    characters.append({'full name' : characters_list})\n",
    "    "
   ]
  },
  {
   "cell_type": "code",
   "execution_count": 74,
   "id": "56afa208-4239-4c4e-a760-12affc5a0f6b",
   "metadata": {},
   "outputs": [],
   "source": [
    "characters_df = pd.DataFrame(characters)\n",
    "characters_df['name'] = characters_df['full name'].str.split().str.get(0)\n",
    "\n",
    "characters_df.at[25, 'name'] = 'Chris'\n",
    "characters_df.at[63, 'name'] = 'Digger'\n",
    "characters_df.at[85, 'name'] = 'Trix'\n",
    "characters_df.at[153, 'name'] = 'Chui'"
   ]
  },
  {
   "cell_type": "code",
   "execution_count": 75,
   "id": "13193b51-2705-4695-903a-ba3a4f3a2722",
   "metadata": {},
   "outputs": [],
   "source": [
    "# save to csv\n",
    "characters_df.to_csv('characters_list.csv', sep='\\t', index=False)"
   ]
  },
  {
   "cell_type": "code",
   "execution_count": 46,
   "id": "7fc1a120-2e96-4db0-b197-74d4d93df924",
   "metadata": {
    "tags": []
   },
   "outputs": [],
   "source": [
    "item_links = [item.get_attribute(\"href\") for item in driver.find_elements(By.CLASS_NAME, 'category-page__member-link')]\n",
    "\n",
    "#iterate over the links\n",
    "# for item_link in item_links[10:13]:\n",
    "#     driver.get(item_link) # Click the link  \n",
    "#     time.sleep(3)\n",
    "#     l = driver.find_elements(By.CLASS_NAME, 'pi-data-value pi-font')\n",
    "#     for i in l:\n",
    "#         print(i.get_attribute(\"href\"))"
   ]
  },
  {
   "cell_type": "code",
   "execution_count": null,
   "id": "5c649168-e1e8-4b17-a153-b703decb27b0",
   "metadata": {},
   "outputs": [],
   "source": []
  }
 ],
 "metadata": {
  "kernelspec": {
   "display_name": "Python 3 (ipykernel)",
   "language": "python",
   "name": "python3"
  },
  "language_info": {
   "codemirror_mode": {
    "name": "ipython",
    "version": 3
   },
   "file_extension": ".py",
   "mimetype": "text/x-python",
   "name": "python",
   "nbconvert_exporter": "python",
   "pygments_lexer": "ipython3",
   "version": "3.9.7"
  }
 },
 "nbformat": 4,
 "nbformat_minor": 5
}
